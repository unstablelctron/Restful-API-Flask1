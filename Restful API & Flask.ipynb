{
 "cells": [
  {
   "cell_type": "markdown",
   "metadata": {},
   "source": [
    "### 1.What is a RESTful API?"
   ]
  },
  {
   "cell_type": "markdown",
   "metadata": {
    "id": "tWMayOsMIuq8"
   },
   "source": [
    "\n",
    "\n",
    "Ans: A RESTful API (Representational State Transfer) is a web service that uses HTTP methods like GET, POST, PUT, and DELETE to perform operations on resources. It follows a stateless, client-server architecture, where each request from a client to server must contain all the information needed to understand and process it. RESTful APIs use standard URL structures and return data in formats like JSON or XML, making them simple, scalable, and easy to integrate across platforms."
   ]
  },
  {
   "cell_type": "markdown",
   "metadata": {},
   "source": [
    "### 2. Explain the concept of API specification."
   ]
  },
  {
   "cell_type": "markdown",
   "metadata": {
    "id": "3TvzZKxTJQce"
   },
   "source": [
    "\n",
    "\n",
    "Ans: An API specification is a document that defines how an API works. It outlines the endpoints, request methods (like GET or POST), parameters, data formats, authentication methods, and response types. This helps developers understand how to interact with the API effectively. A clear API specification ensures consistency, reduces errors, and allows teams to build and integrate applications more efficiently, often using tools like OpenAPI or Swagger for documentation.\n"
   ]
  },
  {
   "cell_type": "markdown",
   "metadata": {},
   "source": [
    "### 3. What is Flask, and why is it popular for building APIs?\n"
   ]
  },
  {
   "cell_type": "markdown",
   "metadata": {
    "id": "bbcPpHCZJgZt"
   },
   "source": [
    "\n",
    "Ans: Flask is a lightweight and flexible Python web framework used to build web applications and APIs. It is popular for API development because it is easy to set up, has minimal boilerplate code, and offers full control over how applications are structured. Flask supports extensions, making it customizable, and integrates well with other tools. Its simplicity, clear documentation, and active community make it a preferred choice for both beginners and experienced developers."
   ]
  },
  {
   "cell_type": "markdown",
   "metadata": {},
   "source": [
    "### 4. What is routing in Flask?"
   ]
  },
  {
   "cell_type": "markdown",
   "metadata": {
    "id": "-dNvDQPcJs2i"
   },
   "source": [
    "\n",
    "\n",
    "Ans: Routing in Flask refers to the process of defining URL patterns that are linked to specific functions in your application. When a user visits a URL, Flask matches it to a route and calls the associated function, known as a view function, to generate a response. Routes are defined using the '@app.route()' decorator. For example, '@app.route('/home')' binds the '/home' URL to a function, allowing Flask to handle web requests and return the appropriate content or data.\n"
   ]
  },
  {
   "cell_type": "markdown",
   "metadata": {},
   "source": [
    "### 5. How do you create a simple Flask application?"
   ]
  },
  {
   "cell_type": "markdown",
   "metadata": {
    "id": "armNVxMuKJQ5"
   },
   "source": [
    "\n",
    "\n",
    "Ans: To create a simple Flask application, follow these steps:\n",
    "\n",
    "1. **Install Flask** (if not already installed):\n",
    "\n",
    "  \n",
    "   pip install Flask\n",
    "  \n",
    "\n",
    "2. **Create a Python file** (e.g., 'app.py') and add this code:\n",
    "\n",
    "   \n",
    "   from flask import Flask\n",
    "\n",
    "   app = Flask(__name__)\n",
    "\n",
    "   @app.route('/')\n",
    "   def home():\n",
    "       return 'Hello, Flask!'\n",
    "\n",
    "   if __name__ == '__main__':\n",
    "       app.run(debug=True)\n",
    "   ``\n",
    "\n",
    "3. **Run the app**:\n",
    "\n",
    "   python app.py\n",
    "   \n",
    "\n",
    "4. **Access it in a browser** at 'http://127.0.0.1:5000/'.\n"
   ]
  },
  {
   "cell_type": "markdown",
   "metadata": {},
   "source": [
    "### 6. What are HTTP methods used in RESTful APIs?"
   ]
  },
  {
   "cell_type": "markdown",
   "metadata": {
    "id": "XFXYgQepKvs7"
   },
   "source": [
    "\n",
    "\n",
    "Ans: HTTP methods used in RESTful APIs define the type of operation to perform on resources. The main methods are:\n",
    "\n",
    "1. **GET** – Retrieves data from the server (read operation).\n",
    "2. **POST** – Sends data to the server to create a new resource.\n",
    "3. **PUT** – Updates an existing resource or creates one if it doesn’t exist.\n",
    "4. **DELETE** – Removes a resource from the server.\n",
    "5. **PATCH** – Partially updates an existing resource.\n",
    "\n",
    "These methods help build clear and consistent APIs.\n"
   ]
  },
  {
   "cell_type": "markdown",
   "metadata": {},
   "source": [
    "### 7. What is the purpose of the @app.route() decorator in Flask?\n"
   ]
  },
  {
   "cell_type": "markdown",
   "metadata": {
    "id": "9jQZbGzQK_ey"
   },
   "source": [
    "\n",
    "Ans: The '@app.route()' decorator in Flask is used to bind a URL path to a specific function, known as a view function. It tells Flask what URL should trigger which function when a user accesses the web app. For example, '@app.route('/about')' means that when a user visits '/about', the associated function will run and return a response. This is how routing is handled in Flask to connect URLs with Python code that generates content.\n"
   ]
  },
  {
   "cell_type": "markdown",
   "metadata": {},
   "source": [
    "### 8. What is the difference between GET and POST HTTP methods?"
   ]
  },
  {
   "cell_type": "markdown",
   "metadata": {
    "id": "-MAsWCKhLaZk"
   },
   "source": [
    "\n",
    "\n",
    "Ans: The **GET** and **POST** HTTP methods differ mainly in purpose and how they handle data:\n",
    "\n",
    "* **GET** is used to **retrieve data** from the server. Data is sent in the **URL** as query parameters, making it visible and less secure. It's typically used for read-only operations.\n",
    "\n",
    "* **POST** is used to **send data** to the server to **create or process** a resource. Data is sent in the **request body**, making it more secure and suitable for sensitive or large data.\n",
    "\n",
    "GET is idempotent; POST is not.\n"
   ]
  },
  {
   "cell_type": "markdown",
   "metadata": {},
   "source": [
    "### 9. How do you handle errors in Flask APIs?\n"
   ]
  },
  {
   "cell_type": "markdown",
   "metadata": {
    "id": "bHG5x9T7Lqan"
   },
   "source": [
    "\n",
    "Ans: In Flask APIs, you handle errors using:\n",
    "\n",
    "1. **Error Handlers**: Define custom responses for specific HTTP errors using '@app.errorhandler()'.\n",
    "\n",
    "   \n",
    "   @app.errorhandler(404)\n",
    "   def not_found(error):\n",
    "       return {\"error\": \"Not found\"}, 404\n",
    "   \n",
    "\n",
    "2. **Try-Except Blocks**: Catch and manage exceptions in view functions.\n",
    "\n",
    "   \n",
    "   try:\n",
    "       # some code\n",
    "   except Exception as e:\n",
    "       return {\"error\": str(e)}, 500\n",
    "   \n",
    "\n",
    "3. **abort() Function**: Manually trigger HTTP errors.\n",
    "\n",
    "   \n",
    "   from flask import abort\n",
    "   abort(400)\n",
    "   \n"
   ]
  },
  {
   "cell_type": "markdown",
   "metadata": {},
   "source": [
    "### 10. How do you connect Flask to a SQL database?"
   ]
  },
  {
   "cell_type": "markdown",
   "metadata": {
    "id": "CNEdvz00MLi7"
   },
   "source": [
    "\n",
    "\n",
    "Ans: To connect Flask to a SQL database, you typically use an extension like **Flask-SQLAlchemy**. Here's a simple way:\n",
    "\n",
    "1. **Install Flask-SQLAlchemy:**\n",
    "\n",
    "\n",
    "pip install flask-sqlalchemy\n",
    "\n",
    "\n",
    "2. **Set up your Flask app and database config:**\n",
    "\n",
    "\n",
    "from flask import Flask\n",
    "from flask_sqlalchemy import SQLAlchemy\n",
    "\n",
    "app = Flask(__name__)\n",
    "app.config['SQLALCHEMY_DATABASE_URI'] = 'sqlite:///mydatabase.db'  # or your SQL database URI\n",
    "db = SQLAlchemy(app)\n",
    "\n",
    "#### Define a model\n",
    "class User(db.Model):\n",
    "    id = db.Column(db.Integer, primary_key=True)\n",
    "    name = db.Column(db.String(50))\n",
    "\n",
    "#### Create tables\n",
    "with app.app_context():\n",
    "    db.create_all()\n",
    "\n",
    "\n",
    "3. **Use the models to query and manipulate data in your routes.**\n",
    "\n",
    "This connects Flask with a SQL database and lets you interact with it via Python classes.\n"
   ]
  },
  {
   "cell_type": "markdown",
   "metadata": {},
   "source": [
    "### 11. What is the role of Flask-SQLAlchemy?"
   ]
  },
  {
   "cell_type": "markdown",
   "metadata": {
    "id": "3wXW8DniMh91"
   },
   "source": [
    "\n",
    "\n",
    "Ans: Flask-SQLAlchemy is an extension that simplifies using SQL databases with Flask. It provides an easy-to-use ORM (Object-Relational Mapping) layer, allowing you to work with database records as Python objects instead of writing raw SQL queries. It handles database connections, schema definitions, and query building, making database interactions cleaner, more intuitive, and integrated smoothly with Flask apps.\n"
   ]
  },
  {
   "cell_type": "markdown",
   "metadata": {},
   "source": [
    "### 12. What are Flask blueprints, and how are they useful?"
   ]
  },
  {
   "cell_type": "markdown",
   "metadata": {
    "id": "s-v2qwJ8MvMY"
   },
   "source": [
    "\n",
    "\n",
    "Ans: Flask **blueprints** are a way to organize a Flask application into smaller, reusable components or modules. Each blueprint can contain its own routes, templates, and static files. This helps keep code clean and manageable, especially for large apps.\n",
    "\n",
    "**Benefits:**\n",
    "\n",
    "* Modular structure for easier development\n",
    "* Reusable components across projects\n",
    "* Simplifies collaboration in teams\n",
    "* Helps separate concerns (e.g., admin vs. user routes)\n",
    "\n",
    "You register blueprints with the main app to combine them.\n"
   ]
  },
  {
   "cell_type": "markdown",
   "metadata": {},
   "source": [
    "### 13. What is the purpose of Flask's request object?"
   ]
  },
  {
   "cell_type": "markdown",
   "metadata": {
    "id": "c-CK-4HIM-kZ"
   },
   "source": [
    "\n",
    "\n",
    "Ans: Flask’s 'request' object represents the incoming HTTP request from a client. It provides access to all the data sent by the client, such as form data, query parameters, headers, cookies, and JSON payloads. Using 'request', you can read user input, handle file uploads, and process data needed to generate a response. Essentially, it lets your Flask app understand and interact with what the client sends.\n"
   ]
  },
  {
   "cell_type": "markdown",
   "metadata": {},
   "source": [
    "### 14. How do you create a RESTful API endpoint using Flask?"
   ]
  },
  {
   "cell_type": "markdown",
   "metadata": {
    "id": "6n_v-ppCNSxH"
   },
   "source": [
    "\n",
    "\n",
    "Ans: To create a RESTful API endpoint in Flask, you define a route with the appropriate HTTP method and write a function that returns data (usually JSON). Here’s a simple example:\n",
    "\n",
    "\n",
    "from flask import Flask, jsonify, request\n",
    "\n",
    "app = Flask(__name__)\n",
    "\n",
    "#### Sample data\n",
    "items = [{\"id\": 1, \"name\": \"Item One\"}, {\"id\": 2, \"name\": \"Item Two\"}]\n",
    "\n",
    "#### GET endpoint to fetch all items\n",
    "@app.route('/api/items', methods=['GET'])\n",
    "def get_items():\n",
    "    return jsonify(items)\n",
    "\n",
    "#### POST endpoint to add a new item\n",
    "@app.route('/api/items', methods=['POST'])\n",
    "def add_item():\n",
    "    new_item = request.get_json()\n",
    "    items.append(new_item)\n",
    "    return jsonify(new_item), 201\n",
    "\n",
    "if __name__ == '__main__':\n",
    "    app.run(debug=True)\n",
    "\n",
    "\n",
    "This creates RESTful endpoints to **GET** and **POST** items using JSON.\n"
   ]
  },
  {
   "cell_type": "markdown",
   "metadata": {},
   "source": [
    "### 15. What is the purpose of Flask's jsonify() function?"
   ]
  },
  {
   "cell_type": "markdown",
   "metadata": {
    "id": "ZsgYU8--Nj01"
   },
   "source": [
    "\n",
    "\n",
    "Ans: Flask’s 'jsonify()' function converts Python data structures like dictionaries or lists into a JSON-formatted **HTTP response**. It sets the correct **Content-Type** header ('application/json') automatically, making it easy to send JSON data from your API endpoints to clients. Using 'jsonify()' ensures your responses are properly formatted and ready for frontend apps or other services to consume.\n"
   ]
  },
  {
   "cell_type": "markdown",
   "metadata": {},
   "source": [
    "### 16. Explain Flask’s url_for() function."
   ]
  },
  {
   "cell_type": "markdown",
   "metadata": {
    "id": "VDLrUGSjN3J-"
   },
   "source": [
    "\n",
    "\n",
    "Ans: Flask’s 'url_for()' function generates a URL for a given view function name. Instead of hardcoding URLs, you use 'url_for()' to build them dynamically, which helps avoid errors and makes your app more flexible. It also lets you pass arguments for dynamic routes.\n",
    "\n",
    "For example:\n",
    "\n",
    "\n",
    "url_for('profile', username='john')\n",
    "\n",
    "\n",
    "returns the URL for the 'profile' route with the username 'john'. This is useful for redirects and links in templates.\n"
   ]
  },
  {
   "cell_type": "markdown",
   "metadata": {},
   "source": [
    "### 17. How does Flask handle static files (CSS, JavaScript, etc.)?"
   ]
  },
  {
   "cell_type": "markdown",
   "metadata": {
    "id": "vyC3qAMVOVAc"
   },
   "source": [
    "\n",
    "\n",
    "Ans: Flask serves static files like CSS, JavaScript, and images from a special folder named **static** in your project directory. By default, any files placed inside this folder can be accessed via the '/static/' URL path.\n",
    "\n",
    "For example, if you have a file 'style.css' in the 'static' folder, you can reference it in HTML as:\n",
    "\n",
    "link rel=\"stylesheet\" href=\"{{ url_for('static', filename='style.css') }}\"\n",
    "\n",
    "\n",
    "\n",
    "Flask automatically handles routing these files without extra code.\n"
   ]
  },
  {
   "cell_type": "markdown",
   "metadata": {},
   "source": [
    "### 18. What is an API specification, and how does it help in building a Flask API?"
   ]
  },
  {
   "cell_type": "markdown",
   "metadata": {
    "id": "yIyw3paJOu-S"
   },
   "source": [
    "\n",
    "\n",
    "Ans: An **API specification** is a detailed document that defines how an API should behave—its endpoints, request methods, parameters, data formats, authentication, and responses. It acts as a clear contract between the API provider and consumers.\n",
    "\n",
    "In building a Flask API, an API specification helps by:\n",
    "\n",
    "* Guiding development with clear structure and rules\n",
    "* Ensuring consistent and predictable behavior\n",
    "* Making it easier to test and debug\n",
    "* Helping generate documentation automatically\n",
    "* Facilitating collaboration between teams\n",
    "\n",
    "Tools like **OpenAPI** make creating and using API specs straightforward in Flask projects.\n"
   ]
  },
  {
   "cell_type": "markdown",
   "metadata": {},
   "source": [
    "### 19. What are HTTP status codes, and why are they important in a Flask API?"
   ]
  },
  {
   "cell_type": "markdown",
   "metadata": {
    "id": "xtr24w5_Pnxu"
   },
   "source": [
    "\n",
    "\n",
    "Ans: HTTP status codes are standardized numbers sent by a server to indicate the result of a client’s request. They show whether the request was successful, redirected, caused an error, etc.\n",
    "\n",
    "In a Flask API, status codes are important because they:\n",
    "\n",
    "* Communicate the outcome clearly to clients (e.g., '200 OK', '404 Not Found', '500 Internal Server Error')\n",
    "* Help clients handle responses properly\n",
    "* Improve API reliability and debugging\n",
    "* Follow RESTful best practices for meaningful interactions between client and server\n"
   ]
  },
  {
   "cell_type": "markdown",
   "metadata": {},
   "source": [
    "### 20. How do you handle POST requests in Flask?"
   ]
  },
  {
   "cell_type": "markdown",
   "metadata": {
    "id": "4qXi1Tj_P85w"
   },
   "source": [
    "\n",
    "\n",
    "Ans: To handle POST requests in Flask, you define a route with 'methods=['POST']' and use the 'request' object to access the incoming data. For example:\n",
    "\n",
    "\n",
    "from flask import Flask, request, jsonify\n",
    "\n",
    "app = Flask(__name__)\n",
    "\n",
    "@app.route('/submit', methods=['POST'])\n",
    "def submit():\n",
    "    data = request.get_json()  # Get JSON data sent by client\n",
    "    # Process data here\n",
    "    return jsonify({\"message\": \"Data received\", \"data\": data}), 201\n",
    "\n",
    "if __name__ == '__main__':\n",
    "    app.run(debug=True)\n",
    "\n",
    "\n",
    "This lets your Flask app receive and process data sent via POST requests.\n"
   ]
  },
  {
   "cell_type": "markdown",
   "metadata": {},
   "source": [
    "### 21. How would you secure a Flask API?"
   ]
  },
  {
   "cell_type": "markdown",
   "metadata": {
    "id": "crFSbz7CQSeZ"
   },
   "source": [
    "\n",
    "\n",
    "Ans: To secure a Flask API, you can implement several key practices:\n",
    "\n",
    "1. **Use Authentication** — Implement token-based auth like JWT (JSON Web Tokens) or OAuth to verify users.\n",
    "2. **Enable HTTPS** — Use SSL/TLS to encrypt data between client and server.\n",
    "3. **Validate Input** — Always validate and sanitize incoming data to prevent injection attacks.\n",
    "4. **Rate Limiting** — Limit the number of requests per client to prevent abuse or DoS attacks.\n",
    "5. **Use Flask Extensions** — Tools like 'Flask-HTTPAuth' or 'Flask-JWT-Extended' help add security easily.\n",
    "6. **Handle Errors Carefully** — Avoid leaking sensitive info in error messages.\n",
    "7. **Keep Dependencies Updated** — Regularly update Flask and libraries to patch vulnerabilities.\n",
    "\n",
    "These steps help keep your API safe and reliable.\n"
   ]
  },
  {
   "cell_type": "markdown",
   "metadata": {},
   "source": [
    "### 22. What is the significance of the Flask-RESTful extension?"
   ]
  },
  {
   "cell_type": "markdown",
   "metadata": {
    "id": "ECXtmK9XQj7_"
   },
   "source": [
    "\n",
    "\n",
    "Ans: Flask-RESTful is an extension that simplifies building RESTful APIs with Flask. It provides useful tools like resource classes, request parsing, and automatic response formatting, making API development faster and more organized. With Flask-RESTful, you can define API endpoints as classes, handle HTTP methods cleanly, and manage input/output easily, reducing boilerplate code and improving maintainability.\n"
   ]
  },
  {
   "cell_type": "markdown",
   "metadata": {},
   "source": [
    "### 23. What is the role of Flask’s session object?"
   ]
  },
  {
   "cell_type": "markdown",
   "metadata": {
    "id": "0ePnn7WSQuPJ"
   },
   "source": [
    "\n",
    "\n",
    "Ans: Flask’s **session** object lets you store data specific to a user across multiple requests. It keeps information like login status, user preferences, or shopping cart contents between pages by saving data on the client side (usually in a secure cookie). This helps create personalized and stateful web experiences while maintaining security through encryption and signing.\n"
   ]
  },
  {
   "cell_type": "markdown",
   "metadata": {
    "id": "Pm61XtaLQ4wc"
   },
   "source": [
    "# **Practical**"
   ]
  },
  {
   "cell_type": "markdown",
   "metadata": {},
   "source": [
    "### 1. How do you create a basic Flask application?"
   ]
  },
  {
   "cell_type": "code",
   "execution_count": 1,
   "metadata": {
    "colab": {
     "base_uri": "https://localhost:8080/"
    },
    "id": "ca9GjsQTQ9D1",
    "outputId": "b198fd68-9e6a-4b5a-ce15-b1e3b210e208"
   },
   "outputs": [
    {
     "name": "stdout",
     "output_type": "stream",
     "text": [
      " * Serving Flask app '__main__'\n",
      " * Debug mode: on\n"
     ]
    },
    {
     "name": "stderr",
     "output_type": "stream",
     "text": [
      "INFO:werkzeug:\u001b[31m\u001b[1mWARNING: This is a development server. Do not use it in a production deployment. Use a production WSGI server instead.\u001b[0m\n",
      " * Running on http://127.0.0.1:5000\n",
      "INFO:werkzeug:\u001b[33mPress CTRL+C to quit\u001b[0m\n",
      "INFO:werkzeug: * Restarting with stat\n"
     ]
    }
   ],
   "source": [
    "\n",
    "\n",
    "\n",
    "from flask import Flask\n",
    "\n",
    "app = Flask(__name__)\n",
    "\n",
    "@app.route('/')\n",
    "def home():\n",
    "    return 'Hello, Flask!'\n",
    "\n",
    "if __name__ == '__main__':\n",
    "    app.run(debug=True)\n"
   ]
  },
  {
   "cell_type": "markdown",
   "metadata": {},
   "source": [
    "### 2. How do you serve static files like images or CSS in Flask?"
   ]
  },
  {
   "cell_type": "code",
   "execution_count": 2,
   "metadata": {
    "colab": {
     "base_uri": "https://localhost:8080/"
    },
    "id": "S0fLd2apRQNu",
    "outputId": "43fa5c8d-5e5a-4d39-8569-0d113d8e23ad"
   },
   "outputs": [
    {
     "name": "stdout",
     "output_type": "stream",
     "text": [
      " * Serving Flask app '__main__'\n",
      " * Debug mode: off\n"
     ]
    },
    {
     "name": "stderr",
     "output_type": "stream",
     "text": [
      "INFO:werkzeug:\u001b[31m\u001b[1mWARNING: This is a development server. Do not use it in a production deployment. Use a production WSGI server instead.\u001b[0m\n",
      " * Running on http://127.0.0.1:5000\n",
      "INFO:werkzeug:\u001b[33mPress CTRL+C to quit\u001b[0m\n"
     ]
    }
   ],
   "source": [
    "\n",
    "\n",
    "\n",
    "\n",
    "# create a 'static' folder and add a file\n",
    "import os\n",
    "\n",
    "os.makedirs('static', exist_ok=True)\n",
    "\n",
    "# Create a sample CSS file\n",
    "with open('static/style.css', 'w') as f:\n",
    "    f.write('body {background-color: lightblue;}')\n",
    "\n",
    "# Flask app to serve static files\n",
    "from flask import Flask, url_for\n",
    "\n",
    "app = Flask(__name__)\n",
    "\n",
    "@app.route('/')\n",
    "def home():\n",
    "    return '''\n",
    "    <html>\n",
    "    <head>\n",
    "        <link rel=\"stylesheet\" href=\"{}\">\n",
    "    </head>\n",
    "    <body>\n",
    "        <h1>Hello, styled Flask!</h1>\n",
    "    </body>\n",
    "    </html>\n",
    "    '''.format(url_for('static', filename='style.css'))\n",
    "\n",
    "if __name__ == '__main__':\n",
    "    app.run()\n",
    "\n"
   ]
  },
  {
   "cell_type": "markdown",
   "metadata": {},
   "source": [
    "### 3. How do you define different routes with different HTTP methods in Flask?"
   ]
  },
  {
   "cell_type": "code",
   "execution_count": 5,
   "metadata": {
    "colab": {
     "base_uri": "https://localhost:8080/"
    },
    "id": "g-MlPbYMSJVa",
    "outputId": "5a27bba2-157e-43b1-9f1d-794ce763fb7a"
   },
   "outputs": [
    {
     "name": "stdout",
     "output_type": "stream",
     "text": [
      " * Serving Flask app '__main__'\n",
      " * Debug mode: off\n"
     ]
    },
    {
     "name": "stderr",
     "output_type": "stream",
     "text": [
      "INFO:werkzeug:\u001b[31m\u001b[1mWARNING: This is a development server. Do not use it in a production deployment. Use a production WSGI server instead.\u001b[0m\n",
      " * Running on http://127.0.0.1:5000\n",
      "INFO:werkzeug:\u001b[33mPress CTRL+C to quit\u001b[0m\n"
     ]
    },
    {
     "name": "stdout",
     "output_type": "stream",
     "text": [
      "Collecting flask-ngrok\n",
      "  Downloading flask_ngrok-0.0.25-py3-none-any.whl.metadata (1.8 kB)\n",
      "Requirement already satisfied: Flask>=0.8 in /usr/local/lib/python3.11/dist-packages (from flask-ngrok) (3.1.0)\n",
      "Requirement already satisfied: requests in /usr/local/lib/python3.11/dist-packages (from flask-ngrok) (2.32.3)\n",
      "Requirement already satisfied: Werkzeug>=3.1 in /usr/local/lib/python3.11/dist-packages (from Flask>=0.8->flask-ngrok) (3.1.3)\n",
      "Requirement already satisfied: Jinja2>=3.1.2 in /usr/local/lib/python3.11/dist-packages (from Flask>=0.8->flask-ngrok) (3.1.6)\n",
      "Requirement already satisfied: itsdangerous>=2.2 in /usr/local/lib/python3.11/dist-packages (from Flask>=0.8->flask-ngrok) (2.2.0)\n",
      "Requirement already satisfied: click>=8.1.3 in /usr/local/lib/python3.11/dist-packages (from Flask>=0.8->flask-ngrok) (8.1.8)\n",
      "Requirement already satisfied: blinker>=1.9 in /usr/local/lib/python3.11/dist-packages (from Flask>=0.8->flask-ngrok) (1.9.0)\n",
      "Requirement already satisfied: charset-normalizer<4,>=2 in /usr/local/lib/python3.11/dist-packages (from requests->flask-ngrok) (3.4.2)\n",
      "Requirement already satisfied: idna<4,>=2.5 in /usr/local/lib/python3.11/dist-packages (from requests->flask-ngrok) (3.10)\n",
      "Requirement already satisfied: urllib3<3,>=1.21.1 in /usr/local/lib/python3.11/dist-packages (from requests->flask-ngrok) (2.4.0)\n",
      "Requirement already satisfied: certifi>=2017.4.17 in /usr/local/lib/python3.11/dist-packages (from requests->flask-ngrok) (2025.4.26)\n",
      "Requirement already satisfied: MarkupSafe>=2.0 in /usr/local/lib/python3.11/dist-packages (from Jinja2>=3.1.2->Flask>=0.8->flask-ngrok) (3.0.2)\n",
      "Downloading flask_ngrok-0.0.25-py3-none-any.whl (3.1 kB)\n",
      "Installing collected packages: flask-ngrok\n",
      "Successfully installed flask-ngrok-0.0.25\n",
      " * Serving Flask app '__main__'\n",
      " * Debug mode: off\n"
     ]
    },
    {
     "name": "stderr",
     "output_type": "stream",
     "text": [
      "INFO:werkzeug:\u001b[31m\u001b[1mWARNING: This is a development server. Do not use it in a production deployment. Use a production WSGI server instead.\u001b[0m\n",
      " * Running on http://127.0.0.1:5000\n",
      "INFO:werkzeug:\u001b[33mPress CTRL+C to quit\u001b[0m\n"
     ]
    }
   ],
   "source": [
    "\n",
    "\n",
    "\n",
    "\n",
    "from flask import Flask, request, jsonify\n",
    "\n",
    "app = Flask(__name__)\n",
    "\n",
    "@app.route('/item', methods=['GET'])\n",
    "def get_item():\n",
    "    return jsonify({\"message\": \"This is a GET request\"})\n",
    "\n",
    "@app.route('/item', methods=['POST'])\n",
    "def post_item():\n",
    "    data = request.get_json()\n",
    "    return jsonify({\"message\": \"This is a POST request\", \"data\": data}), 201\n",
    "\n",
    "if __name__ == '__main__':\n",
    "    app.run()\n",
    "\n",
    "\n",
    "!pip install flask-ngrok\n",
    "\n",
    "from flask_ngrok import run_with_ngrok\n",
    "\n",
    "app = Flask(__name__)\n",
    "run_with_ngrok(app)  # Starts ngrok when app runs\n",
    "\n",
    "@app.route('/item', methods=['GET'])\n",
    "def get_item():\n",
    "    return jsonify({\"message\": \"This is a GET request\"})\n",
    "\n",
    "@app.route('/item', methods=['POST'])\n",
    "def post_item():\n",
    "    data = request.get_json()\n",
    "    return jsonify({\"message\": \"This is a POST request\", \"data\": data}), 201\n",
    "\n",
    "app.run()\n"
   ]
  },
  {
   "cell_type": "markdown",
   "metadata": {},
   "source": [
    "### 4. How do you render HTML templates in Flask?"
   ]
  },
  {
   "cell_type": "code",
   "execution_count": 6,
   "metadata": {
    "colab": {
     "base_uri": "https://localhost:8080/",
     "height": 106
    },
    "id": "7vnRMX4_T0nX",
    "outputId": "0e0efbb8-9907-45ac-91d4-9c698c10815a"
   },
   "outputs": [
    {
     "ename": "SyntaxError",
     "evalue": "invalid syntax (<ipython-input-6-7e74367eb658>, line 18)",
     "output_type": "error",
     "traceback": [
      "\u001b[0;36m  File \u001b[0;32m\"<ipython-input-6-7e74367eb658>\"\u001b[0;36m, line \u001b[0;32m18\u001b[0m\n\u001b[0;31m    <!DOCTYPE html>\u001b[0m\n\u001b[0m    ^\u001b[0m\n\u001b[0;31mSyntaxError\u001b[0m\u001b[0;31m:\u001b[0m invalid syntax\n"
     ]
    }
   ],
   "source": [
    "\n",
    "\n",
    "from flask import Flask, render_template\n",
    "\n",
    "app = Flask(__name__)\n",
    "\n",
    "@app.route('/')\n",
    "def home():\n",
    "    return render_template('index.html')\n",
    "\n",
    "if __name__ == '__main__':\n",
    "    app.run(debug=True)\n",
    "\n",
    "\n",
    "#templates/index.html\n",
    "\n",
    "\n",
    "<!DOCTYPE html>\n",
    "<html>\n",
    "<head>\n",
    "    <title>Flask Template</title>\n",
    "</head>\n",
    "<body>\n",
    "    <h1>Hello from Flask template!</h1>\n",
    "</body>\n",
    "</html>\n",
    "\n"
   ]
  },
  {
   "cell_type": "markdown",
   "metadata": {},
   "source": [
    "### 5. How can you generate URLs for routes in Flask using url_for?"
   ]
  },
  {
   "cell_type": "code",
   "execution_count": 7,
   "metadata": {
    "colab": {
     "base_uri": "https://localhost:8080/"
    },
    "id": "yJz2dN9NUMYj",
    "outputId": "af10d65d-cc5b-485f-f79d-c666514f6a05"
   },
   "outputs": [
    {
     "name": "stdout",
     "output_type": "stream",
     "text": [
      " * Serving Flask app '__main__'\n",
      " * Debug mode: on\n"
     ]
    },
    {
     "name": "stderr",
     "output_type": "stream",
     "text": [
      "INFO:werkzeug:\u001b[31m\u001b[1mWARNING: This is a development server. Do not use it in a production deployment. Use a production WSGI server instead.\u001b[0m\n",
      " * Running on http://127.0.0.1:5000\n",
      "INFO:werkzeug:\u001b[33mPress CTRL+C to quit\u001b[0m\n",
      "INFO:werkzeug: * Restarting with stat\n"
     ]
    }
   ],
   "source": [
    "\n",
    "\n",
    "from flask import Flask, url_for\n",
    "\n",
    "app = Flask(__name__)\n",
    "\n",
    "@app.route('/')\n",
    "def home():\n",
    "    return 'Home Page'\n",
    "\n",
    "@app.route('/user/<username>')\n",
    "def profile(username):\n",
    "    return f'Profile: {username}'\n",
    "\n",
    "@app.route('/show-url')\n",
    "def show_url():\n",
    "    user_url = url_for('profile', username='john')\n",
    "    home_url = url_for('home')\n",
    "    return f'User URL: {user_url}, Home URL: {home_url}'\n",
    "\n",
    "if __name__ == '__main__':\n",
    "    app.run(debug=True)\n",
    "\n"
   ]
  },
  {
   "cell_type": "markdown",
   "metadata": {},
   "source": [
    "### 6. How do you handle forms in Flask?"
   ]
  },
  {
   "cell_type": "code",
   "execution_count": 8,
   "metadata": {
    "colab": {
     "base_uri": "https://localhost:8080/"
    },
    "id": "buOI0rnEUgu2",
    "outputId": "0b810d9e-5d58-4d87-d807-04ce7f77d2b5"
   },
   "outputs": [
    {
     "name": "stdout",
     "output_type": "stream",
     "text": [
      " * Serving Flask app '__main__'\n",
      " * Debug mode: on\n"
     ]
    },
    {
     "name": "stderr",
     "output_type": "stream",
     "text": [
      "INFO:werkzeug:\u001b[31m\u001b[1mWARNING: This is a development server. Do not use it in a production deployment. Use a production WSGI server instead.\u001b[0m\n",
      " * Running on http://127.0.0.1:5000\n",
      "INFO:werkzeug:\u001b[33mPress CTRL+C to quit\u001b[0m\n",
      "INFO:werkzeug: * Restarting with stat\n"
     ]
    }
   ],
   "source": [
    "\n",
    "\n",
    "\n",
    "from flask import Flask, request, render_template_string\n",
    "\n",
    "app = Flask(__name__)\n",
    "\n",
    "form_html = '''\n",
    "<form method=\"POST\" action=\"/submit\">\n",
    "  Name: <input type=\"text\" name=\"name\">\n",
    "  <input type=\"submit\" value=\"Submit\">\n",
    "</form>\n",
    "'''\n",
    "\n",
    "@app.route('/')\n",
    "def index():\n",
    "    return form_html\n",
    "\n",
    "@app.route('/submit', methods=['POST'])\n",
    "def submit():\n",
    "    name = request.form.get('name')\n",
    "    return f'Hello, {name}!'\n",
    "\n",
    "if __name__ == '__main__':\n",
    "    app.run(debug=True)\n",
    "\n"
   ]
  },
  {
   "cell_type": "markdown",
   "metadata": {},
   "source": [
    "### 7. How can you validate form data in Flask?"
   ]
  },
  {
   "cell_type": "code",
   "execution_count": 9,
   "metadata": {
    "colab": {
     "base_uri": "https://localhost:8080/"
    },
    "id": "LcnxCnuqUx-U",
    "outputId": "438e43a9-0746-45da-efa2-289acdeff061"
   },
   "outputs": [
    {
     "name": "stdout",
     "output_type": "stream",
     "text": [
      " * Serving Flask app '__main__'\n",
      " * Debug mode: on\n"
     ]
    },
    {
     "name": "stderr",
     "output_type": "stream",
     "text": [
      "INFO:werkzeug:\u001b[31m\u001b[1mWARNING: This is a development server. Do not use it in a production deployment. Use a production WSGI server instead.\u001b[0m\n",
      " * Running on http://127.0.0.1:5000\n",
      "INFO:werkzeug:\u001b[33mPress CTRL+C to quit\u001b[0m\n",
      "INFO:werkzeug: * Restarting with stat\n"
     ]
    }
   ],
   "source": [
    "\n",
    "\n",
    "from flask import Flask, request, render_template_string\n",
    "\n",
    "app = Flask(__name__)\n",
    "\n",
    "form_html = '''\n",
    "<form method=\"POST\" action=\"/submit\">\n",
    "  Email: <input type=\"text\" name=\"email\">\n",
    "  <input type=\"submit\" value=\"Submit\">\n",
    "</form>\n",
    "{% if error %}\n",
    "  <p style=\"color:red;\">{{ error }}</p>\n",
    "{% endif %}\n",
    "'''\n",
    "\n",
    "@app.route('/', methods=['GET', 'POST'])\n",
    "def index():\n",
    "    error = None\n",
    "    if request.method == 'POST':\n",
    "        email = request.form.get('email')\n",
    "        if not email or '@' not in email:\n",
    "            error = \"Invalid email address!\"\n",
    "        else:\n",
    "            return f\"Email {email} is valid!\"\n",
    "    return render_template_string(form_html, error=error)\n",
    "\n",
    "if __name__ == '__main__':\n",
    "    app.run(debug=True)"
   ]
  },
  {
   "cell_type": "markdown",
   "metadata": {},
   "source": [
    "### 8. How do you manage sessions in Flask?"
   ]
  },
  {
   "cell_type": "code",
   "execution_count": 10,
   "metadata": {
    "colab": {
     "base_uri": "https://localhost:8080/"
    },
    "id": "VTU6t6UIVDov",
    "outputId": "17decbab-1161-4302-c785-1312abb8a837"
   },
   "outputs": [
    {
     "name": "stdout",
     "output_type": "stream",
     "text": [
      " * Serving Flask app '__main__'\n",
      " * Debug mode: on\n"
     ]
    },
    {
     "name": "stderr",
     "output_type": "stream",
     "text": [
      "INFO:werkzeug:\u001b[31m\u001b[1mWARNING: This is a development server. Do not use it in a production deployment. Use a production WSGI server instead.\u001b[0m\n",
      " * Running on http://127.0.0.1:5000\n",
      "INFO:werkzeug:\u001b[33mPress CTRL+C to quit\u001b[0m\n",
      "INFO:werkzeug: * Restarting with stat\n"
     ]
    }
   ],
   "source": [
    "\n",
    "\n",
    "from flask import Flask, session, redirect, url_for, request\n",
    "\n",
    "app = Flask(__name__)\n",
    "app.secret_key = 'your_secret_key'  # Needed to secure the session\n",
    "\n",
    "@app.route('/')\n",
    "def index():\n",
    "    if 'username' in session:\n",
    "        return f'Logged in as {session[\"username\"]}'\n",
    "    return 'You are not logged in'\n",
    "\n",
    "@app.route('/login', methods=['POST'])\n",
    "def login():\n",
    "    username = request.form.get('username')\n",
    "    if username:\n",
    "        session['username'] = username\n",
    "        return redirect(url_for('index'))\n",
    "    return 'Please provide a username', 400\n",
    "\n",
    "@app.route('/logout')\n",
    "def logout():\n",
    "    session.pop('username', None)\n",
    "    return redirect(url_for('index'))\n",
    "\n",
    "if __name__ == '__main__':\n",
    "    app.run(debug=True)"
   ]
  },
  {
   "cell_type": "markdown",
   "metadata": {},
   "source": [
    "### 9. How do you redirect to a different route in Flask?"
   ]
  },
  {
   "cell_type": "code",
   "execution_count": 11,
   "metadata": {
    "colab": {
     "base_uri": "https://localhost:8080/"
    },
    "id": "BRYQhUXmVWMT",
    "outputId": "f0289416-ebcd-4f24-b613-d66069d18c3d"
   },
   "outputs": [
    {
     "name": "stdout",
     "output_type": "stream",
     "text": [
      " * Serving Flask app '__main__'\n",
      " * Debug mode: on\n"
     ]
    },
    {
     "name": "stderr",
     "output_type": "stream",
     "text": [
      "INFO:werkzeug:\u001b[31m\u001b[1mWARNING: This is a development server. Do not use it in a production deployment. Use a production WSGI server instead.\u001b[0m\n",
      " * Running on http://127.0.0.1:5000\n",
      "INFO:werkzeug:\u001b[33mPress CTRL+C to quit\u001b[0m\n",
      "INFO:werkzeug: * Restarting with stat\n"
     ]
    }
   ],
   "source": [
    "\n",
    "\n",
    "from flask import Flask, redirect, url_for\n",
    "\n",
    "app = Flask(__name__)\n",
    "\n",
    "@app.route('/')\n",
    "def home():\n",
    "    return 'Home Page'\n",
    "\n",
    "@app.route('/go-to-home')\n",
    "def go_to_home():\n",
    "    return redirect(url_for('home'))\n",
    "\n",
    "if __name__ == '__main__':\n",
    "    app.run(debug=True)"
   ]
  },
  {
   "cell_type": "markdown",
   "metadata": {},
   "source": [
    "### 10. How do you handle errors in Flask (e.g., 404)?"
   ]
  },
  {
   "cell_type": "code",
   "execution_count": 12,
   "metadata": {
    "id": "bLT6fBaZVlbF"
   },
   "outputs": [],
   "source": [
    "\n",
    "\n",
    "\n",
    "from flask import Flask, jsonify\n",
    "\n",
    "app = Flask(__name__)\n",
    "\n",
    "@app.errorhandler(404)\n",
    "def not_found_error(error):\n",
    "    return jsonify({'error': 'Not found'}), 404\n",
    "\n",
    "if __name__ == '__main__':\n",
    "    app"
   ]
  },
  {
   "cell_type": "markdown",
   "metadata": {},
   "source": [
    "### 11. How do you structure a Flask app using Blueprints?"
   ]
  },
  {
   "cell_type": "code",
   "execution_count": 15,
   "metadata": {
    "colab": {
     "base_uri": "https://localhost:8080/"
    },
    "id": "lZIDJZHBVwEH",
    "outputId": "a26647de-07c8-446a-e0c0-f7d9978d5115"
   },
   "outputs": [
    {
     "name": "stdout",
     "output_type": "stream",
     "text": [
      "Requirement already satisfied: flask-ngrok in /usr/local/lib/python3.11/dist-packages (0.0.25)\n",
      "Requirement already satisfied: Flask>=0.8 in /usr/local/lib/python3.11/dist-packages (from flask-ngrok) (3.1.0)\n",
      "Requirement already satisfied: requests in /usr/local/lib/python3.11/dist-packages (from flask-ngrok) (2.32.3)\n",
      "Requirement already satisfied: Werkzeug>=3.1 in /usr/local/lib/python3.11/dist-packages (from Flask>=0.8->flask-ngrok) (3.1.3)\n",
      "Requirement already satisfied: Jinja2>=3.1.2 in /usr/local/lib/python3.11/dist-packages (from Flask>=0.8->flask-ngrok) (3.1.6)\n",
      "Requirement already satisfied: itsdangerous>=2.2 in /usr/local/lib/python3.11/dist-packages (from Flask>=0.8->flask-ngrok) (2.2.0)\n",
      "Requirement already satisfied: click>=8.1.3 in /usr/local/lib/python3.11/dist-packages (from Flask>=0.8->flask-ngrok) (8.1.8)\n",
      "Requirement already satisfied: blinker>=1.9 in /usr/local/lib/python3.11/dist-packages (from Flask>=0.8->flask-ngrok) (1.9.0)\n",
      "Requirement already satisfied: charset-normalizer<4,>=2 in /usr/local/lib/python3.11/dist-packages (from requests->flask-ngrok) (3.4.2)\n",
      "Requirement already satisfied: idna<4,>=2.5 in /usr/local/lib/python3.11/dist-packages (from requests->flask-ngrok) (3.10)\n",
      "Requirement already satisfied: urllib3<3,>=1.21.1 in /usr/local/lib/python3.11/dist-packages (from requests->flask-ngrok) (2.4.0)\n",
      "Requirement already satisfied: certifi>=2017.4.17 in /usr/local/lib/python3.11/dist-packages (from requests->flask-ngrok) (2025.4.26)\n",
      "Requirement already satisfied: MarkupSafe>=2.0 in /usr/local/lib/python3.11/dist-packages (from Jinja2>=3.1.2->Flask>=0.8->flask-ngrok) (3.0.2)\n",
      " * Serving Flask app '__main__'\n",
      " * Debug mode: off\n"
     ]
    },
    {
     "name": "stderr",
     "output_type": "stream",
     "text": [
      "INFO:werkzeug:\u001b[31m\u001b[1mWARNING: This is a development server. Do not use it in a production deployment. Use a production WSGI server instead.\u001b[0m\n",
      " * Running on http://127.0.0.1:5000\n",
      "INFO:werkzeug:\u001b[33mPress CTRL+C to quit\u001b[0m\n",
      "Exception in thread Thread-9:\n",
      "Traceback (most recent call last):\n",
      "  File \"/usr/local/lib/python3.11/dist-packages/urllib3/connection.py\", line 198, in _new_conn\n",
      "    sock = connection.create_connection(\n",
      "           ^^^^^^^^^^^^^^^^^^^^^^^^^^^^^\n",
      "  File \"/usr/local/lib/python3.11/dist-packages/urllib3/util/connection.py\", line 85, in create_connection\n",
      "    raise err\n",
      "  File \"/usr/local/lib/python3.11/dist-packages/urllib3/util/connection.py\", line 73, in create_connection\n",
      "    sock.connect(sa)\n",
      "ConnectionRefusedError: [Errno 111] Connection refused\n",
      "\n",
      "The above exception was the direct cause of the following exception:\n",
      "\n",
      "Traceback (most recent call last):\n",
      "  File \"/usr/local/lib/python3.11/dist-packages/urllib3/connectionpool.py\", line 787, in urlopen\n",
      "    response = self._make_request(\n",
      "               ^^^^^^^^^^^^^^^^^^^\n",
      "  File \"/usr/local/lib/python3.11/dist-packages/urllib3/connectionpool.py\", line 493, in _make_request\n",
      "    conn.request(\n",
      "  File \"/usr/local/lib/python3.11/dist-packages/urllib3/connection.py\", line 445, in request\n",
      "    self.endheaders()\n",
      "  File \"/usr/lib/python3.11/http/client.py\", line 1298, in endheaders\n",
      "    self._send_output(message_body, encode_chunked=encode_chunked)\n",
      "  File \"/usr/lib/python3.11/http/client.py\", line 1058, in _send_output\n",
      "    self.send(msg)\n",
      "  File \"/usr/lib/python3.11/http/client.py\", line 996, in send\n",
      "    self.connect()\n",
      "  File \"/usr/local/lib/python3.11/dist-packages/urllib3/connection.py\", line 276, in connect\n",
      "    self.sock = self._new_conn()\n",
      "                ^^^^^^^^^^^^^^^^\n",
      "  File \"/usr/local/lib/python3.11/dist-packages/urllib3/connection.py\", line 213, in _new_conn\n",
      "    raise NewConnectionError(\n",
      "urllib3.exceptions.NewConnectionError: <urllib3.connection.HTTPConnection object at 0x7ee56c66b1d0>: Failed to establish a new connection: [Errno 111] Connection refused\n",
      "\n",
      "The above exception was the direct cause of the following exception:\n",
      "\n",
      "Traceback (most recent call last):\n",
      "  File \"/usr/local/lib/python3.11/dist-packages/requests/adapters.py\", line 667, in send\n",
      "    resp = conn.urlopen(\n",
      "           ^^^^^^^^^^^^^\n",
      "  File \"/usr/local/lib/python3.11/dist-packages/urllib3/connectionpool.py\", line 841, in urlopen\n",
      "    retries = retries.increment(\n",
      "              ^^^^^^^^^^^^^^^^^^\n",
      "  File \"/usr/local/lib/python3.11/dist-packages/urllib3/util/retry.py\", line 519, in increment\n",
      "    raise MaxRetryError(_pool, url, reason) from reason  # type: ignore[arg-type]\n",
      "    ^^^^^^^^^^^^^^^^^^^^^^^^^^^^^^^^^^^^^^^^^^^^^^^^^^^\n",
      "urllib3.exceptions.MaxRetryError: HTTPConnectionPool(host='localhost', port=4040): Max retries exceeded with url: /api/tunnels (Caused by NewConnectionError('<urllib3.connection.HTTPConnection object at 0x7ee56c66b1d0>: Failed to establish a new connection: [Errno 111] Connection refused'))\n",
      "\n",
      "During handling of the above exception, another exception occurred:\n",
      "\n",
      "Traceback (most recent call last):\n",
      "  File \"/usr/lib/python3.11/threading.py\", line 1045, in _bootstrap_inner\n",
      "    self.run()\n",
      "  File \"/usr/lib/python3.11/threading.py\", line 1401, in run\n",
      "    self.function(*self.args, **self.kwargs)\n",
      "  File \"/usr/local/lib/python3.11/dist-packages/flask_ngrok.py\", line 70, in start_ngrok\n",
      "    ngrok_address = _run_ngrok()\n",
      "                    ^^^^^^^^^^^^\n",
      "  File \"/usr/local/lib/python3.11/dist-packages/flask_ngrok.py\", line 35, in _run_ngrok\n",
      "    tunnel_url = requests.get(localhost_url).text  # Get the tunnel information\n",
      "                 ^^^^^^^^^^^^^^^^^^^^^^^^^^^\n",
      "  File \"/usr/local/lib/python3.11/dist-packages/requests/api.py\", line 73, in get\n",
      "    return request(\"get\", url, params=params, **kwargs)\n",
      "           ^^^^^^^^^^^^^^^^^^^^^^^^^^^^^^^^^^^^^^^^^^^^\n",
      "  File \"/usr/local/lib/python3.11/dist-packages/requests/api.py\", line 59, in request\n",
      "    return session.request(method=method, url=url, **kwargs)\n",
      "           ^^^^^^^^^^^^^^^^^^^^^^^^^^^^^^^^^^^^^^^^^^^^^^^^^\n",
      "  File \"/usr/local/lib/python3.11/dist-packages/requests/sessions.py\", line 589, in request\n",
      "    resp = self.send(prep, **send_kwargs)\n",
      "           ^^^^^^^^^^^^^^^^^^^^^^^^^^^^^^\n",
      "  File \"/usr/local/lib/python3.11/dist-packages/requests/sessions.py\", line 703, in send\n",
      "    r = adapter.send(request, **kwargs)\n",
      "        ^^^^^^^^^^^^^^^^^^^^^^^^^^^^^^^\n",
      "  File \"/usr/local/lib/python3.11/dist-packages/requests/adapters.py\", line 700, in send\n",
      "    raise ConnectionError(e, request=request)\n",
      "requests.exceptions.ConnectionError: HTTPConnectionPool(host='localhost', port=4040): Max retries exceeded with url: /api/tunnels (Caused by NewConnectionError('<urllib3.connection.HTTPConnection object at 0x7ee56c66b1d0>: Failed to establish a new connection: [Errno 111] Connection refused'))\n"
     ]
    }
   ],
   "source": [
    "\n",
    "\n",
    "# Directory structure\n",
    "# /content/\n",
    "# ├── app.py\n",
    "# └── mymodule/\n",
    "#     ├── __init__.py\n",
    "#     └── routes.py\n",
    "\n",
    "# Step 1: Create the folder and files\n",
    "\n",
    "import os\n",
    "\n",
    "os.makedirs('mymodule', exist_ok=True)\n",
    "\n",
    "# Step 2: Create mymodule/routes.py\n",
    "\n",
    "with open('mymodule/routes.py', 'w') as f:\n",
    "    f.write('''\n",
    "from flask import Blueprint\n",
    "\n",
    "bp = Blueprint('mymodule', __name__)\n",
    "\n",
    "@bp.route('/hello')\n",
    "def hello():\n",
    "    return 'Hello from Blueprint!'\n",
    "''')\n",
    "\n",
    "# Step 3: Create mymodule/__init__.py\n",
    "\n",
    "with open('mymodule/__init__.py', 'w') as f:\n",
    "    f.write('from .routes import bp')\n",
    "\n",
    "# Step 4: Create the main Flask app (app.py)\n",
    "\n",
    "with open('app.py', 'w') as f:\n",
    "    f.write('''\n",
    "from flask import Flask\n",
    "from mymodule import bp\n",
    "\n",
    "app = Flask(__name__)\n",
    "app.register_blueprint(bp, url_prefix='/mymodule')\n",
    "\n",
    "if __name__ == '__main__':\n",
    "    app.run()\n",
    "''')\n",
    "\n",
    "# Step 5: Run the app with Flask-Ngrok\n",
    "\n",
    "!pip install flask-ngrok\n",
    "\n",
    "from flask_ngrok import run_with_ngrok\n",
    "from flask import Flask\n",
    "from mymodule import bp\n",
    "\n",
    "app = Flask(__name__)\n",
    "app.register_blueprint(bp, url_prefix='/mymodule')\n",
    "\n",
    "run_with_ngrok(app)\n",
    "app.run()\n"
   ]
  },
  {
   "cell_type": "markdown",
   "metadata": {},
   "source": [
    "### 12. How do you define a custom Jinja filter in Flask?"
   ]
  },
  {
   "cell_type": "code",
   "execution_count": 16,
   "metadata": {
    "colab": {
     "base_uri": "https://localhost:8080/"
    },
    "id": "ZvWNgDXLXG8p",
    "outputId": "748d283f-f7f7-4b66-e166-dd0068fc26d3"
   },
   "outputs": [
    {
     "name": "stdout",
     "output_type": "stream",
     "text": [
      " * Serving Flask app '__main__'\n",
      " * Debug mode: on\n"
     ]
    },
    {
     "name": "stderr",
     "output_type": "stream",
     "text": [
      "INFO:werkzeug:\u001b[31m\u001b[1mWARNING: This is a development server. Do not use it in a production deployment. Use a production WSGI server instead.\u001b[0m\n",
      " * Running on http://127.0.0.1:5000\n",
      "INFO:werkzeug:\u001b[33mPress CTRL+C to quit\u001b[0m\n",
      "INFO:werkzeug: * Restarting with stat\n"
     ]
    }
   ],
   "source": [
    "\n",
    "\n",
    "from flask import Flask, render_template_string\n",
    "\n",
    "app = Flask(__name__)\n",
    "\n",
    "# Define custom Jinja filter\n",
    "def reverse_string(s):\n",
    "    return s[::-1]\n",
    "\n",
    "app.jinja_env.filters['reverse'] = reverse_string\n",
    "\n",
    "@app.route('/')\n",
    "def index():\n",
    "    return render_template_string('<p>{{ \"Flask\" | reverse }}</p>')\n",
    "\n",
    "if __name__ == '__main__':\n",
    "    app.run(debug=True)"
   ]
  },
  {
   "cell_type": "markdown",
   "metadata": {},
   "source": [
    "### 13. How can you redirect with query parameters in Flask?"
   ]
  },
  {
   "cell_type": "code",
   "execution_count": 17,
   "metadata": {
    "colab": {
     "base_uri": "https://localhost:8080/"
    },
    "id": "kJzHb3N_Xvvk",
    "outputId": "42c6664c-03b5-4e9c-a846-fac244ca586b"
   },
   "outputs": [
    {
     "name": "stdout",
     "output_type": "stream",
     "text": [
      " * Serving Flask app '__main__'\n",
      " * Debug mode: on\n"
     ]
    },
    {
     "name": "stderr",
     "output_type": "stream",
     "text": [
      "INFO:werkzeug:\u001b[31m\u001b[1mWARNING: This is a development server. Do not use it in a production deployment. Use a production WSGI server instead.\u001b[0m\n",
      " * Running on http://127.0.0.1:5000\n",
      "INFO:werkzeug:\u001b[33mPress CTRL+C to quit\u001b[0m\n",
      "INFO:werkzeug: * Restarting with stat\n"
     ]
    }
   ],
   "source": [
    "\n",
    "\n",
    "from flask import Flask, redirect, url_for, request\n",
    "\n",
    "app = Flask(__name__)\n",
    "\n",
    "@app.route('/')\n",
    "def index():\n",
    "    return redirect(url_for('greet', name='Alice', age=25))\n",
    "\n",
    "@app.route('/greet')\n",
    "def greet():\n",
    "    name = request.args.get('name')\n",
    "    age = request.args.get('age')\n",
    "    return f'Hello {name}, age {age}!'\n",
    "\n",
    "if __name__ == '__main__':\n",
    "    app.run(debug=True)"
   ]
  },
  {
   "cell_type": "markdown",
   "metadata": {},
   "source": [
    "### 14. How do you return JSON responses in Flask?"
   ]
  },
  {
   "cell_type": "code",
   "execution_count": 18,
   "metadata": {
    "colab": {
     "base_uri": "https://localhost:8080/"
    },
    "id": "V6ZUVCRzYCxD",
    "outputId": "e378b04e-3066-4eff-faeb-f647ebbc49e7"
   },
   "outputs": [
    {
     "name": "stdout",
     "output_type": "stream",
     "text": [
      " * Serving Flask app '__main__'\n",
      " * Debug mode: on\n"
     ]
    },
    {
     "name": "stderr",
     "output_type": "stream",
     "text": [
      "INFO:werkzeug:\u001b[31m\u001b[1mWARNING: This is a development server. Do not use it in a production deployment. Use a production WSGI server instead.\u001b[0m\n",
      " * Running on http://127.0.0.1:5000\n",
      "INFO:werkzeug:\u001b[33mPress CTRL+C to quit\u001b[0m\n",
      "INFO:werkzeug: * Restarting with stat\n"
     ]
    }
   ],
   "source": [
    "\n",
    "\n",
    "from flask import Flask, jsonify\n",
    "\n",
    "app = Flask(__name__)\n",
    "\n",
    "@app.route('/data')\n",
    "def data():\n",
    "    return jsonify({\"name\": \"Bhaskar\", \"age\": 25, \"status\": \"active\"})\n",
    "\n",
    "if __name__ == '__main__':\n",
    "    app.run(debug=True)"
   ]
  },
  {
   "cell_type": "markdown",
   "metadata": {
    "id": "KsIpzwidYyPt"
   },
   "source": [
    "\n",
    "\n",
    "---\n",
    "\n"
   ]
  },
  {
   "cell_type": "markdown",
   "metadata": {},
   "source": [
    "### 15. How do you capture URL parameters in Flask?"
   ]
  },
  {
   "cell_type": "code",
   "execution_count": 19,
   "metadata": {
    "colab": {
     "base_uri": "https://localhost:8080/"
    },
    "id": "kgLNPaadYUjw",
    "outputId": "0a89194f-4bf3-40c5-96cb-7dce695cfe49"
   },
   "outputs": [
    {
     "name": "stdout",
     "output_type": "stream",
     "text": [
      " * Serving Flask app '__main__'\n",
      " * Debug mode: on\n"
     ]
    },
    {
     "name": "stderr",
     "output_type": "stream",
     "text": [
      "INFO:werkzeug:\u001b[31m\u001b[1mWARNING: This is a development server. Do not use it in a production deployment. Use a production WSGI server instead.\u001b[0m\n",
      " * Running on http://127.0.0.1:5000\n",
      "INFO:werkzeug:\u001b[33mPress CTRL+C to quit\u001b[0m\n",
      "INFO:werkzeug: * Restarting with stat\n"
     ]
    }
   ],
   "source": [
    "\n",
    "\n",
    "from flask import Flask\n",
    "\n",
    "app = Flask(__name__)\n",
    "\n",
    "@app.route('/user/<username>')\n",
    "def show_user(username):\n",
    "    return f'Hello, {username}!'\n",
    "\n",
    "@app.route('/post/<int:post_id>')\n",
    "def show_post(post_id):\n",
    "    return f'Post ID: {post_id}'\n",
    "\n",
    "if __name__ == '__main__':\n",
    "    app.run(debug=True)"
   ]
  }
 ],
 "metadata": {
  "colab": {
   "provenance": []
  },
  "kernelspec": {
   "display_name": "Python 3 (ipykernel)",
   "language": "python",
   "name": "python3"
  },
  "language_info": {
   "codemirror_mode": {
    "name": "ipython",
    "version": 3
   },
   "file_extension": ".py",
   "mimetype": "text/x-python",
   "name": "python",
   "nbconvert_exporter": "python",
   "pygments_lexer": "ipython3",
   "version": "3.12.7"
  }
 },
 "nbformat": 4,
 "nbformat_minor": 4
}
